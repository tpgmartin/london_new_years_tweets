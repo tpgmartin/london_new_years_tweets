{
 "cells": [
  {
   "cell_type": "code",
   "execution_count": 1,
   "metadata": {
    "collapsed": true
   },
   "outputs": [],
   "source": [
    "import datetime\n",
    "import math\n",
    "import nltk\n",
    "from nltk import word_tokenize\n",
    "from nltk.corpus import stopwords\n",
    "from nltk.stem.porter import *\n",
    "import numpy as np\n",
    "import pandas as pd\n",
    "import re\n",
    "from sklearn.feature_extraction.text import TfidfVectorizer\n",
    "import string"
   ]
  },
  {
   "cell_type": "code",
   "execution_count": 2,
   "metadata": {
    "collapsed": true
   },
   "outputs": [],
   "source": [
    "tweets = pd.read_csv(\"./data/tweets_all.csv\", encoding=\"latin1\")"
   ]
  },
  {
   "cell_type": "code",
   "execution_count": 4,
   "metadata": {
    "collapsed": true
   },
   "outputs": [],
   "source": [
    "min_lat = tweets.LATITUDE.min()\n",
    "min_long = tweets.LONGITUDE.min()"
   ]
  },
  {
   "cell_type": "code",
   "execution_count": 5,
   "metadata": {},
   "outputs": [
    {
     "name": "stdout",
     "output_type": "stream",
     "text": [
      "51.69515609741211\n",
      "51.28390121459961\n",
      "0.3412590026855469\n",
      "-0.5209429860115051\n"
     ]
    }
   ],
   "source": [
    "print(tweets.LATITUDE.max())\n",
    "print(tweets.LATITUDE.min())\n",
    "print(tweets.LONGITUDE.max())\n",
    "print(tweets.LONGITUDE.min())"
   ]
  },
  {
   "cell_type": "code",
   "execution_count": 6,
   "metadata": {
    "collapsed": true
   },
   "outputs": [],
   "source": [
    "lat_range = tweets.LATITUDE.max() - tweets.LATITUDE.min()\n",
    "long_range = tweets.LONGITUDE.max() - tweets.LONGITUDE.min()\n",
    "\n",
    "lat_bin_size = lat_range/9\n",
    "long_bin_size= long_range/9"
   ]
  },
  {
   "cell_type": "code",
   "execution_count": 7,
   "metadata": {},
   "outputs": [
    {
     "name": "stdout",
     "output_type": "stream",
     "text": [
      "0.4112548828125\n",
      "0.862201988697052\n"
     ]
    }
   ],
   "source": [
    "print(lat_range)\n",
    "print(long_range)"
   ]
  },
  {
   "cell_type": "code",
   "execution_count": 8,
   "metadata": {},
   "outputs": [
    {
     "name": "stdout",
     "output_type": "stream",
     "text": [
      "0.045694986979166664\n",
      "0.09580022096633911\n"
     ]
    }
   ],
   "source": [
    "print(lat_bin_size)\n",
    "print(long_bin_size)"
   ]
  },
  {
   "cell_type": "code",
   "execution_count": 9,
   "metadata": {},
   "outputs": [],
   "source": [
    "tweets[\"Space\"] = tweets.LONGITUDE.apply(lambda long: (((long - min_long)//long_bin_size)+1))\n",
    "tweets[\"Row\"] = tweets.LATITUDE.apply(lambda lat: (9-((lat - min_lat)//lat_bin_size)+1))"
   ]
  },
  {
   "cell_type": "code",
   "execution_count": 10,
   "metadata": {},
   "outputs": [],
   "source": [
    "tweets[\"Space\"] = tweets[\"Space\"].apply(lambda l: int(l))\n",
    "tweets[\"Row\"] = tweets[\"Row\"].apply(lambda l: int(l))"
   ]
  },
  {
   "cell_type": "code",
   "execution_count": 11,
   "metadata": {},
   "outputs": [
    {
     "data": {
      "text/html": [
       "<div>\n",
       "<style scoped>\n",
       "    .dataframe tbody tr th:only-of-type {\n",
       "        vertical-align: middle;\n",
       "    }\n",
       "\n",
       "    .dataframe tbody tr th {\n",
       "        vertical-align: top;\n",
       "    }\n",
       "\n",
       "    .dataframe thead th {\n",
       "        text-align: right;\n",
       "    }\n",
       "</style>\n",
       "<table border=\"1\" class=\"dataframe\">\n",
       "  <thead>\n",
       "    <tr style=\"text-align: right;\">\n",
       "      <th></th>\n",
       "      <th>id</th>\n",
       "      <th>Name</th>\n",
       "      <th>X</th>\n",
       "      <th>Y</th>\n",
       "      <th>LONGITUDE</th>\n",
       "      <th>LATITUDE</th>\n",
       "      <th>MESSAGEDATE</th>\n",
       "      <th>USERID</th>\n",
       "      <th>USERSCREENNAME</th>\n",
       "      <th>MESSAGETEXT</th>\n",
       "      <th>LOCATION</th>\n",
       "      <th>HASHTAGS</th>\n",
       "      <th>ISRETWEET</th>\n",
       "      <th>Space</th>\n",
       "      <th>Row</th>\n",
       "    </tr>\n",
       "  </thead>\n",
       "  <tbody>\n",
       "    <tr>\n",
       "      <th>0</th>\n",
       "      <td>550226818624942080</td>\n",
       "      <td>NaN</td>\n",
       "      <td>-0.262150</td>\n",
       "      <td>51.391407</td>\n",
       "      <td>-0.262150</td>\n",
       "      <td>51.391407</td>\n",
       "      <td>31/12/2014 09:47:50</td>\n",
       "      <td>113918054</td>\n",
       "      <td>12Elbestreet</td>\n",
       "      <td>@julieo25 Not yet got tics for Liverpool waiti...</td>\n",
       "      <td>Kingston upon Thames; London</td>\n",
       "      <td>NaN</td>\n",
       "      <td>0</td>\n",
       "      <td>3</td>\n",
       "      <td>8</td>\n",
       "    </tr>\n",
       "    <tr>\n",
       "      <th>1</th>\n",
       "      <td>550226823314178048</td>\n",
       "      <td>NaN</td>\n",
       "      <td>-0.149466</td>\n",
       "      <td>51.492560</td>\n",
       "      <td>-0.149466</td>\n",
       "      <td>51.492561</td>\n",
       "      <td>31/12/2014 09:47:52</td>\n",
       "      <td>465989904</td>\n",
       "      <td>alice_foster_95</td>\n",
       "      <td>So. Many. Accents #alicesadventureswithmegabus</td>\n",
       "      <td>London; England</td>\n",
       "      <td>alicesadventureswithmegabus</td>\n",
       "      <td>0</td>\n",
       "      <td>4</td>\n",
       "      <td>6</td>\n",
       "    </tr>\n",
       "    <tr>\n",
       "      <th>2</th>\n",
       "      <td>550226827944660992</td>\n",
       "      <td>NaN</td>\n",
       "      <td>-0.014891</td>\n",
       "      <td>51.354042</td>\n",
       "      <td>-0.014891</td>\n",
       "      <td>51.354042</td>\n",
       "      <td>31/12/2014 09:47:53</td>\n",
       "      <td>55872342</td>\n",
       "      <td>MissGee_Pee</td>\n",
       "      <td>If it doesn't make you happy by December 31st....</td>\n",
       "      <td>New Addington; London</td>\n",
       "      <td>NaN</td>\n",
       "      <td>0</td>\n",
       "      <td>6</td>\n",
       "      <td>9</td>\n",
       "    </tr>\n",
       "    <tr>\n",
       "      <th>3</th>\n",
       "      <td>550226837537058816</td>\n",
       "      <td>NaN</td>\n",
       "      <td>0.006698</td>\n",
       "      <td>51.532020</td>\n",
       "      <td>0.006698</td>\n",
       "      <td>51.532021</td>\n",
       "      <td>31/12/2014 09:47:55</td>\n",
       "      <td>147266450</td>\n",
       "      <td>vinita_ramtri</td>\n",
       "      <td>@westfieldstrat thanks; and are you open tomor...</td>\n",
       "      <td>Stratford; London</td>\n",
       "      <td>NaN</td>\n",
       "      <td>0</td>\n",
       "      <td>6</td>\n",
       "      <td>5</td>\n",
       "    </tr>\n",
       "    <tr>\n",
       "      <th>4</th>\n",
       "      <td>550227214227505152</td>\n",
       "      <td>NaN</td>\n",
       "      <td>0.214417</td>\n",
       "      <td>51.582535</td>\n",
       "      <td>0.214417</td>\n",
       "      <td>51.582535</td>\n",
       "      <td>31/12/2014 09:49:25</td>\n",
       "      <td>518928608</td>\n",
       "      <td>CallumGordon7</td>\n",
       "      <td>@WestHam_Central but he is</td>\n",
       "      <td>Romford; London</td>\n",
       "      <td>NaN</td>\n",
       "      <td>0</td>\n",
       "      <td>8</td>\n",
       "      <td>4</td>\n",
       "    </tr>\n",
       "  </tbody>\n",
       "</table>\n",
       "</div>"
      ],
      "text/plain": [
       "                   id  Name         X          Y  LONGITUDE   LATITUDE  \\\n",
       "0  550226818624942080   NaN -0.262150  51.391407  -0.262150  51.391407   \n",
       "1  550226823314178048   NaN -0.149466  51.492560  -0.149466  51.492561   \n",
       "2  550226827944660992   NaN -0.014891  51.354042  -0.014891  51.354042   \n",
       "3  550226837537058816   NaN  0.006698  51.532020   0.006698  51.532021   \n",
       "4  550227214227505152   NaN  0.214417  51.582535   0.214417  51.582535   \n",
       "\n",
       "           MESSAGEDATE     USERID   USERSCREENNAME  \\\n",
       "0  31/12/2014 09:47:50  113918054     12Elbestreet   \n",
       "1  31/12/2014 09:47:52  465989904  alice_foster_95   \n",
       "2  31/12/2014 09:47:53   55872342      MissGee_Pee   \n",
       "3  31/12/2014 09:47:55  147266450    vinita_ramtri   \n",
       "4  31/12/2014 09:49:25  518928608    CallumGordon7   \n",
       "\n",
       "                                         MESSAGETEXT  \\\n",
       "0  @julieo25 Not yet got tics for Liverpool waiti...   \n",
       "1     So. Many. Accents #alicesadventureswithmegabus   \n",
       "2  If it doesn't make you happy by December 31st....   \n",
       "3  @westfieldstrat thanks; and are you open tomor...   \n",
       "4                       @WestHam_Central but he is     \n",
       "\n",
       "                       LOCATION                     HASHTAGS  ISRETWEET  \\\n",
       "0  Kingston upon Thames; London                          NaN          0   \n",
       "1               London; England  alicesadventureswithmegabus          0   \n",
       "2         New Addington; London                          NaN          0   \n",
       "3             Stratford; London                          NaN          0   \n",
       "4               Romford; London                          NaN          0   \n",
       "\n",
       "   Space  Row  \n",
       "0      3    8  \n",
       "1      4    6  \n",
       "2      6    9  \n",
       "3      6    5  \n",
       "4      8    4  "
      ]
     },
     "execution_count": 11,
     "metadata": {},
     "output_type": "execute_result"
    }
   ],
   "source": [
    "tweets.head()"
   ]
  },
  {
   "cell_type": "markdown",
   "metadata": {},
   "source": [
    "Remove non-plaintext elements from tweets"
   ]
  },
  {
   "cell_type": "code",
   "execution_count": 14,
   "metadata": {
    "collapsed": true
   },
   "outputs": [],
   "source": [
    "tweets[\"One\"] = 1"
   ]
  },
  {
   "cell_type": "code",
   "execution_count": 15,
   "metadata": {},
   "outputs": [
    {
     "data": {
      "text/html": [
       "<div>\n",
       "<style scoped>\n",
       "    .dataframe tbody tr th:only-of-type {\n",
       "        vertical-align: middle;\n",
       "    }\n",
       "\n",
       "    .dataframe tbody tr th {\n",
       "        vertical-align: top;\n",
       "    }\n",
       "\n",
       "    .dataframe thead th {\n",
       "        text-align: right;\n",
       "    }\n",
       "</style>\n",
       "<table border=\"1\" class=\"dataframe\">\n",
       "  <thead>\n",
       "    <tr style=\"text-align: right;\">\n",
       "      <th></th>\n",
       "      <th>id</th>\n",
       "      <th>Name</th>\n",
       "      <th>X</th>\n",
       "      <th>Y</th>\n",
       "      <th>LONGITUDE</th>\n",
       "      <th>LATITUDE</th>\n",
       "      <th>MESSAGEDATE</th>\n",
       "      <th>USERID</th>\n",
       "      <th>USERSCREENNAME</th>\n",
       "      <th>MESSAGETEXT</th>\n",
       "      <th>LOCATION</th>\n",
       "      <th>HASHTAGS</th>\n",
       "      <th>ISRETWEET</th>\n",
       "      <th>Space</th>\n",
       "      <th>Row</th>\n",
       "      <th>parsed_tweets</th>\n",
       "      <th>One</th>\n",
       "    </tr>\n",
       "  </thead>\n",
       "  <tbody>\n",
       "    <tr>\n",
       "      <th>0</th>\n",
       "      <td>550226818624942080</td>\n",
       "      <td>NaN</td>\n",
       "      <td>-0.262150</td>\n",
       "      <td>51.391407</td>\n",
       "      <td>-0.262150</td>\n",
       "      <td>51.391407</td>\n",
       "      <td>31/12/2014 09:47:50</td>\n",
       "      <td>113918054</td>\n",
       "      <td>12Elbestreet</td>\n",
       "      <td>@julieo25 Not yet got tics for Liverpool waiti...</td>\n",
       "      <td>Kingston upon Thames; London</td>\n",
       "      <td>NaN</td>\n",
       "      <td>0</td>\n",
       "      <td>3</td>\n",
       "      <td>8</td>\n",
       "      <td>Not yet got tics for Liverpool waiting till Fr...</td>\n",
       "      <td>1</td>\n",
       "    </tr>\n",
       "    <tr>\n",
       "      <th>1</th>\n",
       "      <td>550226823314178048</td>\n",
       "      <td>NaN</td>\n",
       "      <td>-0.149466</td>\n",
       "      <td>51.492560</td>\n",
       "      <td>-0.149466</td>\n",
       "      <td>51.492561</td>\n",
       "      <td>31/12/2014 09:47:52</td>\n",
       "      <td>465989904</td>\n",
       "      <td>alice_foster_95</td>\n",
       "      <td>So. Many. Accents #alicesadventureswithmegabus</td>\n",
       "      <td>London; England</td>\n",
       "      <td>alicesadventureswithmegabus</td>\n",
       "      <td>0</td>\n",
       "      <td>4</td>\n",
       "      <td>6</td>\n",
       "      <td>So Many Accents</td>\n",
       "      <td>1</td>\n",
       "    </tr>\n",
       "    <tr>\n",
       "      <th>2</th>\n",
       "      <td>550226827944660992</td>\n",
       "      <td>NaN</td>\n",
       "      <td>-0.014891</td>\n",
       "      <td>51.354042</td>\n",
       "      <td>-0.014891</td>\n",
       "      <td>51.354042</td>\n",
       "      <td>31/12/2014 09:47:53</td>\n",
       "      <td>55872342</td>\n",
       "      <td>MissGee_Pee</td>\n",
       "      <td>If it doesn't make you happy by December 31st....</td>\n",
       "      <td>New Addington; London</td>\n",
       "      <td>NaN</td>\n",
       "      <td>0</td>\n",
       "      <td>6</td>\n",
       "      <td>9</td>\n",
       "      <td>If it doesn t make you happy by December st le...</td>\n",
       "      <td>1</td>\n",
       "    </tr>\n",
       "    <tr>\n",
       "      <th>3</th>\n",
       "      <td>550226837537058816</td>\n",
       "      <td>NaN</td>\n",
       "      <td>0.006698</td>\n",
       "      <td>51.532020</td>\n",
       "      <td>0.006698</td>\n",
       "      <td>51.532021</td>\n",
       "      <td>31/12/2014 09:47:55</td>\n",
       "      <td>147266450</td>\n",
       "      <td>vinita_ramtri</td>\n",
       "      <td>@westfieldstrat thanks; and are you open tomor...</td>\n",
       "      <td>Stratford; London</td>\n",
       "      <td>NaN</td>\n",
       "      <td>0</td>\n",
       "      <td>6</td>\n",
       "      <td>5</td>\n",
       "      <td>thanks and are you open tomorrow at all</td>\n",
       "      <td>1</td>\n",
       "    </tr>\n",
       "    <tr>\n",
       "      <th>4</th>\n",
       "      <td>550227214227505152</td>\n",
       "      <td>NaN</td>\n",
       "      <td>0.214417</td>\n",
       "      <td>51.582535</td>\n",
       "      <td>0.214417</td>\n",
       "      <td>51.582535</td>\n",
       "      <td>31/12/2014 09:49:25</td>\n",
       "      <td>518928608</td>\n",
       "      <td>CallumGordon7</td>\n",
       "      <td>@WestHam_Central but he is</td>\n",
       "      <td>Romford; London</td>\n",
       "      <td>NaN</td>\n",
       "      <td>0</td>\n",
       "      <td>8</td>\n",
       "      <td>4</td>\n",
       "      <td>but he is</td>\n",
       "      <td>1</td>\n",
       "    </tr>\n",
       "  </tbody>\n",
       "</table>\n",
       "</div>"
      ],
      "text/plain": [
       "                   id  Name         X          Y  LONGITUDE   LATITUDE  \\\n",
       "0  550226818624942080   NaN -0.262150  51.391407  -0.262150  51.391407   \n",
       "1  550226823314178048   NaN -0.149466  51.492560  -0.149466  51.492561   \n",
       "2  550226827944660992   NaN -0.014891  51.354042  -0.014891  51.354042   \n",
       "3  550226837537058816   NaN  0.006698  51.532020   0.006698  51.532021   \n",
       "4  550227214227505152   NaN  0.214417  51.582535   0.214417  51.582535   \n",
       "\n",
       "           MESSAGEDATE     USERID   USERSCREENNAME  \\\n",
       "0  31/12/2014 09:47:50  113918054     12Elbestreet   \n",
       "1  31/12/2014 09:47:52  465989904  alice_foster_95   \n",
       "2  31/12/2014 09:47:53   55872342      MissGee_Pee   \n",
       "3  31/12/2014 09:47:55  147266450    vinita_ramtri   \n",
       "4  31/12/2014 09:49:25  518928608    CallumGordon7   \n",
       "\n",
       "                                         MESSAGETEXT  \\\n",
       "0  @julieo25 Not yet got tics for Liverpool waiti...   \n",
       "1     So. Many. Accents #alicesadventureswithmegabus   \n",
       "2  If it doesn't make you happy by December 31st....   \n",
       "3  @westfieldstrat thanks; and are you open tomor...   \n",
       "4                       @WestHam_Central but he is     \n",
       "\n",
       "                       LOCATION                     HASHTAGS  ISRETWEET  \\\n",
       "0  Kingston upon Thames; London                          NaN          0   \n",
       "1               London; England  alicesadventureswithmegabus          0   \n",
       "2         New Addington; London                          NaN          0   \n",
       "3             Stratford; London                          NaN          0   \n",
       "4               Romford; London                          NaN          0   \n",
       "\n",
       "   Space  Row                                      parsed_tweets  One  \n",
       "0      3    8  Not yet got tics for Liverpool waiting till Fr...    1  \n",
       "1      4    6                                    So Many Accents    1  \n",
       "2      6    9  If it doesn t make you happy by December st le...    1  \n",
       "3      6    5            thanks and are you open tomorrow at all    1  \n",
       "4      8    4                                          but he is    1  "
      ]
     },
     "execution_count": 15,
     "metadata": {},
     "output_type": "execute_result"
    }
   ],
   "source": [
    "tweets.head()"
   ]
  },
  {
   "cell_type": "code",
   "execution_count": 22,
   "metadata": {},
   "outputs": [],
   "source": [
    "# Want to remove tweets with\n",
    "# * Row = 1, Space = 8\n",
    "# * Row = 3, Space = 8\n",
    "# Only contain one tweet\n",
    "tweets = tweets[~((tweets[\"Row\"] == 1) & (tweets[\"Space\"] == 8 ))]\n",
    "tweets = tweets[~((tweets[\"Row\"] == 3) & (tweets[\"Space\"] == 10 ))]"
   ]
  },
  {
   "cell_type": "code",
   "execution_count": 20,
   "metadata": {},
   "outputs": [],
   "source": [
    "tweets_by_lat_long = tweets.groupby([\"Row\", \"Space\", \"One\"]).id.agg([\"count\"])"
   ]
  },
  {
   "cell_type": "code",
   "execution_count": 21,
   "metadata": {
    "collapsed": true
   },
   "outputs": [],
   "source": [
    "tweets_by_lat_long.to_csv(\"./data/tweets_by_lat_long.csv\")"
   ]
  }
 ],
 "metadata": {
  "kernelspec": {
   "display_name": "Python 3",
   "language": "python",
   "name": "python3"
  },
  "language_info": {
   "codemirror_mode": {
    "name": "ipython",
    "version": 3
   },
   "file_extension": ".py",
   "mimetype": "text/x-python",
   "name": "python",
   "nbconvert_exporter": "python",
   "pygments_lexer": "ipython3",
   "version": "3.6.4"
  }
 },
 "nbformat": 4,
 "nbformat_minor": 2
}
