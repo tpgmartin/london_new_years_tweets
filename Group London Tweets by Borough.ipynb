{
 "cells": [
  {
   "cell_type": "code",
   "execution_count": 1,
   "metadata": {
    "collapsed": true
   },
   "outputs": [],
   "source": [
    "import pandas as pd"
   ]
  },
  {
   "cell_type": "code",
   "execution_count": 4,
   "metadata": {
    "collapsed": true
   },
   "outputs": [],
   "source": [
    "london_tweets = pd.read_csv(\"./data/london_tweets.csv\", )"
   ]
  },
  {
   "cell_type": "code",
   "execution_count": 5,
   "metadata": {},
   "outputs": [
    {
     "data": {
      "text/html": [
       "<div>\n",
       "<style scoped>\n",
       "    .dataframe tbody tr th:only-of-type {\n",
       "        vertical-align: middle;\n",
       "    }\n",
       "\n",
       "    .dataframe tbody tr th {\n",
       "        vertical-align: top;\n",
       "    }\n",
       "\n",
       "    .dataframe thead th {\n",
       "        text-align: right;\n",
       "    }\n",
       "</style>\n",
       "<table border=\"1\" class=\"dataframe\">\n",
       "  <thead>\n",
       "    <tr style=\"text-align: right;\">\n",
       "      <th></th>\n",
       "      <th>id</th>\n",
       "      <th>Name</th>\n",
       "      <th>X</th>\n",
       "      <th>Y</th>\n",
       "      <th>LONGITUDE</th>\n",
       "      <th>LATITUDE</th>\n",
       "      <th>MESSAGEDATE</th>\n",
       "      <th>USERID</th>\n",
       "      <th>USERSCREENNAME</th>\n",
       "      <th>MESSAGETEXT</th>\n",
       "      <th>LOCATION</th>\n",
       "      <th>HASHTAGS</th>\n",
       "      <th>ISRETWEET</th>\n",
       "      <th>DATETIME</th>\n",
       "    </tr>\n",
       "  </thead>\n",
       "  <tbody>\n",
       "    <tr>\n",
       "      <th>0</th>\n",
       "      <td>550226818624942080</td>\n",
       "      <td>NaN</td>\n",
       "      <td>-0.262150</td>\n",
       "      <td>51.391407</td>\n",
       "      <td>-0.262150</td>\n",
       "      <td>51.391407</td>\n",
       "      <td>31/12/2014 09:47:50</td>\n",
       "      <td>113918054</td>\n",
       "      <td>12Elbestreet</td>\n",
       "      <td>@julieo25 Not yet got tics for Liverpool waiti...</td>\n",
       "      <td>Kingston upon Thames; London</td>\n",
       "      <td>NaN</td>\n",
       "      <td>0</td>\n",
       "      <td>2014-12-31 09:47:50</td>\n",
       "    </tr>\n",
       "    <tr>\n",
       "      <th>1</th>\n",
       "      <td>550226823314178048</td>\n",
       "      <td>NaN</td>\n",
       "      <td>-0.149466</td>\n",
       "      <td>51.492560</td>\n",
       "      <td>-0.149466</td>\n",
       "      <td>51.492561</td>\n",
       "      <td>31/12/2014 09:47:52</td>\n",
       "      <td>465989904</td>\n",
       "      <td>alice_foster_95</td>\n",
       "      <td>So. Many. Accents #alicesadventureswithmegabus</td>\n",
       "      <td>London; England</td>\n",
       "      <td>alicesadventureswithmegabus</td>\n",
       "      <td>0</td>\n",
       "      <td>2014-12-31 09:47:52</td>\n",
       "    </tr>\n",
       "    <tr>\n",
       "      <th>2</th>\n",
       "      <td>550226827944660992</td>\n",
       "      <td>NaN</td>\n",
       "      <td>-0.014891</td>\n",
       "      <td>51.354042</td>\n",
       "      <td>-0.014891</td>\n",
       "      <td>51.354042</td>\n",
       "      <td>31/12/2014 09:47:53</td>\n",
       "      <td>55872342</td>\n",
       "      <td>MissGee_Pee</td>\n",
       "      <td>If it doesn't make you happy by December 31st....</td>\n",
       "      <td>New Addington; London</td>\n",
       "      <td>NaN</td>\n",
       "      <td>0</td>\n",
       "      <td>2014-12-31 09:47:53</td>\n",
       "    </tr>\n",
       "    <tr>\n",
       "      <th>3</th>\n",
       "      <td>550226837537058816</td>\n",
       "      <td>NaN</td>\n",
       "      <td>0.006698</td>\n",
       "      <td>51.532020</td>\n",
       "      <td>0.006698</td>\n",
       "      <td>51.532021</td>\n",
       "      <td>31/12/2014 09:47:55</td>\n",
       "      <td>147266450</td>\n",
       "      <td>vinita_ramtri</td>\n",
       "      <td>@westfieldstrat thanks; and are you open tomor...</td>\n",
       "      <td>Stratford; London</td>\n",
       "      <td>NaN</td>\n",
       "      <td>0</td>\n",
       "      <td>2014-12-31 09:47:55</td>\n",
       "    </tr>\n",
       "    <tr>\n",
       "      <th>4</th>\n",
       "      <td>550227214227505152</td>\n",
       "      <td>NaN</td>\n",
       "      <td>0.214417</td>\n",
       "      <td>51.582535</td>\n",
       "      <td>0.214417</td>\n",
       "      <td>51.582535</td>\n",
       "      <td>31/12/2014 09:49:25</td>\n",
       "      <td>518928608</td>\n",
       "      <td>CallumGordon7</td>\n",
       "      <td>@WestHam_Central but he is</td>\n",
       "      <td>Romford; London</td>\n",
       "      <td>NaN</td>\n",
       "      <td>0</td>\n",
       "      <td>2014-12-31 09:49:25</td>\n",
       "    </tr>\n",
       "  </tbody>\n",
       "</table>\n",
       "</div>"
      ],
      "text/plain": [
       "                   id  Name         X          Y  LONGITUDE   LATITUDE  \\\n",
       "0  550226818624942080   NaN -0.262150  51.391407  -0.262150  51.391407   \n",
       "1  550226823314178048   NaN -0.149466  51.492560  -0.149466  51.492561   \n",
       "2  550226827944660992   NaN -0.014891  51.354042  -0.014891  51.354042   \n",
       "3  550226837537058816   NaN  0.006698  51.532020   0.006698  51.532021   \n",
       "4  550227214227505152   NaN  0.214417  51.582535   0.214417  51.582535   \n",
       "\n",
       "           MESSAGEDATE     USERID   USERSCREENNAME  \\\n",
       "0  31/12/2014 09:47:50  113918054     12Elbestreet   \n",
       "1  31/12/2014 09:47:52  465989904  alice_foster_95   \n",
       "2  31/12/2014 09:47:53   55872342      MissGee_Pee   \n",
       "3  31/12/2014 09:47:55  147266450    vinita_ramtri   \n",
       "4  31/12/2014 09:49:25  518928608    CallumGordon7   \n",
       "\n",
       "                                         MESSAGETEXT  \\\n",
       "0  @julieo25 Not yet got tics for Liverpool waiti...   \n",
       "1     So. Many. Accents #alicesadventureswithmegabus   \n",
       "2  If it doesn't make you happy by December 31st....   \n",
       "3  @westfieldstrat thanks; and are you open tomor...   \n",
       "4                       @WestHam_Central but he is     \n",
       "\n",
       "                       LOCATION                     HASHTAGS  ISRETWEET  \\\n",
       "0  Kingston upon Thames; London                          NaN          0   \n",
       "1               London; England  alicesadventureswithmegabus          0   \n",
       "2         New Addington; London                          NaN          0   \n",
       "3             Stratford; London                          NaN          0   \n",
       "4               Romford; London                          NaN          0   \n",
       "\n",
       "              DATETIME  \n",
       "0  2014-12-31 09:47:50  \n",
       "1  2014-12-31 09:47:52  \n",
       "2  2014-12-31 09:47:53  \n",
       "3  2014-12-31 09:47:55  \n",
       "4  2014-12-31 09:49:25  "
      ]
     },
     "execution_count": 5,
     "metadata": {},
     "output_type": "execute_result"
    }
   ],
   "source": [
    "london_tweets.head()"
   ]
  },
  {
   "cell_type": "code",
   "execution_count": 7,
   "metadata": {},
   "outputs": [
    {
     "data": {
      "text/plain": [
       "46"
      ]
     },
     "execution_count": 7,
     "metadata": {},
     "output_type": "execute_result"
    }
   ],
   "source": [
    "london_tweets.LOCATION.unique().size"
   ]
  },
  {
   "cell_type": "code",
   "execution_count": 9,
   "metadata": {},
   "outputs": [
    {
     "data": {
      "text/plain": [
       "LOCATION\n",
       "Barking; London                 2035\n",
       "Barnet; London                  4290\n",
       "Bexley; London                  1807\n",
       "Biggin Hill; London               67\n",
       "Brent; London                   2585\n",
       "Bromley; London                 3514\n",
       "Camberwell; London              4142\n",
       "Camden Town; London             4157\n",
       "City of London; London          1062\n",
       "Crayford; London                 987\n",
       "Croydon; London                 3579\n",
       "Downe; London                      3\n",
       "Ealing; London                  1738\n",
       "East Ham; London                1507\n",
       "Eltham; London                  1351\n",
       "Enfield; London                 3603\n",
       "Greenwich; London               1681\n",
       "Hackney; London                 3935\n",
       "Hammersmith; London             2332\n",
       "Harefield; London                113\n",
       "Harrow; London                  2015\n",
       "Hazlewood; London                 11\n",
       "Hillingdon; London              4079\n",
       "Hounslow; London                1582\n",
       "Ilford; London                  2166\n",
       "Islington; London               3239\n",
       "Kensington; London              2620\n",
       "Keston; London                    25\n",
       "Kingston upon Thames; London    1395\n",
       "Lambeth; London                 4817\n",
       "Lewisham; London                2356\n",
       "London; England                 8771\n",
       "Merton; London                  1811\n",
       "New Addington; London            186\n",
       "Paddington; London              3712\n",
       "Poplar; London                  4114\n",
       "Pratts Bottom; London              6\n",
       "Richmond; London                1864\n",
       "Romford; London                 2936\n",
       "Southall; London                 632\n",
       "Stratford; London               2301\n",
       "Sutton; London                  1534\n",
       "Tottenham; London               3590\n",
       "Walthamstow; London             2597\n",
       "Wandsworth; London              3702\n",
       "Westerham; London                  1\n",
       "Name: id, dtype: int64"
      ]
     },
     "execution_count": 9,
     "metadata": {},
     "output_type": "execute_result"
    }
   ],
   "source": [
    "london_tweets.groupby(\"LOCATION\").agg(\"count\")[\"id\"]"
   ]
  },
  {
   "cell_type": "code",
   "execution_count": 10,
   "metadata": {
    "collapsed": true
   },
   "outputs": [],
   "source": [
    "# For each borough\n",
    "# * Group tweets by hour intervals\n",
    "# * For each hour interval, group tweets by borough"
   ]
  },
  {
   "cell_type": "code",
   "execution_count": 11,
   "metadata": {
    "collapsed": true
   },
   "outputs": [],
   "source": [
    "tweets_by_datetime_and_location = london_tweets[[\"LOCATION\",\"DATETIME\"]]"
   ]
  },
  {
   "cell_type": "code",
   "execution_count": 12,
   "metadata": {},
   "outputs": [
    {
     "data": {
      "text/html": [
       "<div>\n",
       "<style scoped>\n",
       "    .dataframe tbody tr th:only-of-type {\n",
       "        vertical-align: middle;\n",
       "    }\n",
       "\n",
       "    .dataframe tbody tr th {\n",
       "        vertical-align: top;\n",
       "    }\n",
       "\n",
       "    .dataframe thead th {\n",
       "        text-align: right;\n",
       "    }\n",
       "</style>\n",
       "<table border=\"1\" class=\"dataframe\">\n",
       "  <thead>\n",
       "    <tr style=\"text-align: right;\">\n",
       "      <th></th>\n",
       "      <th>LOCATION</th>\n",
       "      <th>DATETIME</th>\n",
       "    </tr>\n",
       "  </thead>\n",
       "  <tbody>\n",
       "    <tr>\n",
       "      <th>0</th>\n",
       "      <td>Kingston upon Thames; London</td>\n",
       "      <td>2014-12-31 09:47:50</td>\n",
       "    </tr>\n",
       "    <tr>\n",
       "      <th>1</th>\n",
       "      <td>London; England</td>\n",
       "      <td>2014-12-31 09:47:52</td>\n",
       "    </tr>\n",
       "    <tr>\n",
       "      <th>2</th>\n",
       "      <td>New Addington; London</td>\n",
       "      <td>2014-12-31 09:47:53</td>\n",
       "    </tr>\n",
       "    <tr>\n",
       "      <th>3</th>\n",
       "      <td>Stratford; London</td>\n",
       "      <td>2014-12-31 09:47:55</td>\n",
       "    </tr>\n",
       "    <tr>\n",
       "      <th>4</th>\n",
       "      <td>Romford; London</td>\n",
       "      <td>2014-12-31 09:49:25</td>\n",
       "    </tr>\n",
       "  </tbody>\n",
       "</table>\n",
       "</div>"
      ],
      "text/plain": [
       "                       LOCATION             DATETIME\n",
       "0  Kingston upon Thames; London  2014-12-31 09:47:50\n",
       "1               London; England  2014-12-31 09:47:52\n",
       "2         New Addington; London  2014-12-31 09:47:53\n",
       "3             Stratford; London  2014-12-31 09:47:55\n",
       "4               Romford; London  2014-12-31 09:49:25"
      ]
     },
     "execution_count": 12,
     "metadata": {},
     "output_type": "execute_result"
    }
   ],
   "source": [
    "tweets_by_datetime_and_location.head()"
   ]
  },
  {
   "cell_type": "code",
   "execution_count": 24,
   "metadata": {},
   "outputs": [
    {
     "data": {
      "text/html": [
       "<div>\n",
       "<style scoped>\n",
       "    .dataframe tbody tr th:only-of-type {\n",
       "        vertical-align: middle;\n",
       "    }\n",
       "\n",
       "    .dataframe tbody tr th {\n",
       "        vertical-align: top;\n",
       "    }\n",
       "\n",
       "    .dataframe thead th {\n",
       "        text-align: right;\n",
       "    }\n",
       "</style>\n",
       "<table border=\"1\" class=\"dataframe\">\n",
       "  <thead>\n",
       "    <tr style=\"text-align: right;\">\n",
       "      <th></th>\n",
       "      <th>LOCATION</th>\n",
       "      <th>DATETIME</th>\n",
       "      <th>datetime</th>\n",
       "    </tr>\n",
       "  </thead>\n",
       "  <tbody>\n",
       "    <tr>\n",
       "      <th>15642</th>\n",
       "      <td>Pratts Bottom; London</td>\n",
       "      <td>2014-12-31 18:23:08</td>\n",
       "      <td>2014-12-31 18:23:08</td>\n",
       "    </tr>\n",
       "    <tr>\n",
       "      <th>19321</th>\n",
       "      <td>Pratts Bottom; London</td>\n",
       "      <td>2014-12-31 16:01:13</td>\n",
       "      <td>2014-12-31 16:01:13</td>\n",
       "    </tr>\n",
       "    <tr>\n",
       "      <th>51808</th>\n",
       "      <td>Pratts Bottom; London</td>\n",
       "      <td>2015-01-01 03:08:44</td>\n",
       "      <td>2015-01-01 03:08:44</td>\n",
       "    </tr>\n",
       "    <tr>\n",
       "      <th>93076</th>\n",
       "      <td>Pratts Bottom; London</td>\n",
       "      <td>2015-01-01 22:04:10</td>\n",
       "      <td>2015-01-01 22:04:10</td>\n",
       "    </tr>\n",
       "    <tr>\n",
       "      <th>93194</th>\n",
       "      <td>Pratts Bottom; London</td>\n",
       "      <td>2015-01-01 21:40:20</td>\n",
       "      <td>2015-01-01 21:40:20</td>\n",
       "    </tr>\n",
       "    <tr>\n",
       "      <th>97801</th>\n",
       "      <td>Pratts Bottom; London</td>\n",
       "      <td>2015-01-01 22:22:34</td>\n",
       "      <td>2015-01-01 22:22:34</td>\n",
       "    </tr>\n",
       "  </tbody>\n",
       "</table>\n",
       "</div>"
      ],
      "text/plain": [
       "                    LOCATION             DATETIME            datetime\n",
       "15642  Pratts Bottom; London  2014-12-31 18:23:08 2014-12-31 18:23:08\n",
       "19321  Pratts Bottom; London  2014-12-31 16:01:13 2014-12-31 16:01:13\n",
       "51808  Pratts Bottom; London  2015-01-01 03:08:44 2015-01-01 03:08:44\n",
       "93076  Pratts Bottom; London  2015-01-01 22:04:10 2015-01-01 22:04:10\n",
       "93194  Pratts Bottom; London  2015-01-01 21:40:20 2015-01-01 21:40:20\n",
       "97801  Pratts Bottom; London  2015-01-01 22:22:34 2015-01-01 22:22:34"
      ]
     },
     "execution_count": 24,
     "metadata": {},
     "output_type": "execute_result"
    }
   ],
   "source": [
    "tweets_by_datetime_and_location[tweets_by_datetime_and_location.LOCATION == \"Pratts Bottom; London\"]"
   ]
  },
  {
   "cell_type": "code",
   "execution_count": 19,
   "metadata": {},
   "outputs": [
    {
     "name": "stderr",
     "output_type": "stream",
     "text": [
      "/anaconda3/lib/python3.6/site-packages/ipykernel_launcher.py:1: SettingWithCopyWarning: \n",
      "A value is trying to be set on a copy of a slice from a DataFrame.\n",
      "Try using .loc[row_indexer,col_indexer] = value instead\n",
      "\n",
      "See the caveats in the documentation: http://pandas.pydata.org/pandas-docs/stable/indexing.html#indexing-view-versus-copy\n",
      "  \"\"\"Entry point for launching an IPython kernel.\n"
     ]
    }
   ],
   "source": [
    "tweets_by_datetime_and_location[\"datetime\"] = pd.to_datetime(tweets_by_datetime_and_location.DATETIME)"
   ]
  },
  {
   "cell_type": "code",
   "execution_count": 25,
   "metadata": {},
   "outputs": [
    {
     "data": {
      "text/html": [
       "<div>\n",
       "<style scoped>\n",
       "    .dataframe tbody tr th:only-of-type {\n",
       "        vertical-align: middle;\n",
       "    }\n",
       "\n",
       "    .dataframe tbody tr th {\n",
       "        vertical-align: top;\n",
       "    }\n",
       "\n",
       "    .dataframe thead th {\n",
       "        text-align: right;\n",
       "    }\n",
       "</style>\n",
       "<table border=\"1\" class=\"dataframe\">\n",
       "  <thead>\n",
       "    <tr style=\"text-align: right;\">\n",
       "      <th></th>\n",
       "      <th>LOCATION</th>\n",
       "      <th>DATETIME</th>\n",
       "      <th>datetime</th>\n",
       "    </tr>\n",
       "  </thead>\n",
       "  <tbody>\n",
       "    <tr>\n",
       "      <th>15642</th>\n",
       "      <td>Pratts Bottom; London</td>\n",
       "      <td>2014-12-31 18:23:08</td>\n",
       "      <td>2014-12-31 18:23:08</td>\n",
       "    </tr>\n",
       "    <tr>\n",
       "      <th>19321</th>\n",
       "      <td>Pratts Bottom; London</td>\n",
       "      <td>2014-12-31 16:01:13</td>\n",
       "      <td>2014-12-31 16:01:13</td>\n",
       "    </tr>\n",
       "    <tr>\n",
       "      <th>51808</th>\n",
       "      <td>Pratts Bottom; London</td>\n",
       "      <td>2015-01-01 03:08:44</td>\n",
       "      <td>2015-01-01 03:08:44</td>\n",
       "    </tr>\n",
       "    <tr>\n",
       "      <th>93076</th>\n",
       "      <td>Pratts Bottom; London</td>\n",
       "      <td>2015-01-01 22:04:10</td>\n",
       "      <td>2015-01-01 22:04:10</td>\n",
       "    </tr>\n",
       "    <tr>\n",
       "      <th>93194</th>\n",
       "      <td>Pratts Bottom; London</td>\n",
       "      <td>2015-01-01 21:40:20</td>\n",
       "      <td>2015-01-01 21:40:20</td>\n",
       "    </tr>\n",
       "  </tbody>\n",
       "</table>\n",
       "</div>"
      ],
      "text/plain": [
       "                    LOCATION             DATETIME            datetime\n",
       "15642  Pratts Bottom; London  2014-12-31 18:23:08 2014-12-31 18:23:08\n",
       "19321  Pratts Bottom; London  2014-12-31 16:01:13 2014-12-31 16:01:13\n",
       "51808  Pratts Bottom; London  2015-01-01 03:08:44 2015-01-01 03:08:44\n",
       "93076  Pratts Bottom; London  2015-01-01 22:04:10 2015-01-01 22:04:10\n",
       "93194  Pratts Bottom; London  2015-01-01 21:40:20 2015-01-01 21:40:20"
      ]
     },
     "execution_count": 25,
     "metadata": {},
     "output_type": "execute_result"
    }
   ],
   "source": [
    "pratts_bottom_tweets = tweets_by_datetime_and_location[tweets_by_datetime_and_location.LOCATION == \"Pratts Bottom; London\"]\n",
    "pratts_bottom_tweets.head()"
   ]
  },
  {
   "cell_type": "code",
   "execution_count": 40,
   "metadata": {},
   "outputs": [
    {
     "data": {
      "text/html": [
       "<div>\n",
       "<style scoped>\n",
       "    .dataframe tbody tr th:only-of-type {\n",
       "        vertical-align: middle;\n",
       "    }\n",
       "\n",
       "    .dataframe tbody tr th {\n",
       "        vertical-align: top;\n",
       "    }\n",
       "\n",
       "    .dataframe thead th {\n",
       "        text-align: right;\n",
       "    }\n",
       "</style>\n",
       "<table border=\"1\" class=\"dataframe\">\n",
       "  <thead>\n",
       "    <tr style=\"text-align: right;\">\n",
       "      <th></th>\n",
       "      <th></th>\n",
       "      <th></th>\n",
       "      <th></th>\n",
       "      <th>LOCATION</th>\n",
       "      <th>DATETIME</th>\n",
       "      <th>datetime</th>\n",
       "    </tr>\n",
       "    <tr>\n",
       "      <th>DATETIME</th>\n",
       "      <th>DATETIME</th>\n",
       "      <th>DATETIME</th>\n",
       "      <th>DATETIME</th>\n",
       "      <th></th>\n",
       "      <th></th>\n",
       "      <th></th>\n",
       "    </tr>\n",
       "  </thead>\n",
       "  <tbody>\n",
       "    <tr>\n",
       "      <th rowspan=\"2\" valign=\"top\">2014</th>\n",
       "      <th rowspan=\"2\" valign=\"top\">12</th>\n",
       "      <th rowspan=\"2\" valign=\"top\">31</th>\n",
       "      <th>16</th>\n",
       "      <td>1</td>\n",
       "      <td>1</td>\n",
       "      <td>1</td>\n",
       "    </tr>\n",
       "    <tr>\n",
       "      <th>18</th>\n",
       "      <td>1</td>\n",
       "      <td>1</td>\n",
       "      <td>1</td>\n",
       "    </tr>\n",
       "    <tr>\n",
       "      <th rowspan=\"3\" valign=\"top\">2015</th>\n",
       "      <th rowspan=\"3\" valign=\"top\">1</th>\n",
       "      <th rowspan=\"3\" valign=\"top\">1</th>\n",
       "      <th>3</th>\n",
       "      <td>1</td>\n",
       "      <td>1</td>\n",
       "      <td>1</td>\n",
       "    </tr>\n",
       "    <tr>\n",
       "      <th>21</th>\n",
       "      <td>1</td>\n",
       "      <td>1</td>\n",
       "      <td>1</td>\n",
       "    </tr>\n",
       "    <tr>\n",
       "      <th>22</th>\n",
       "      <td>2</td>\n",
       "      <td>2</td>\n",
       "      <td>2</td>\n",
       "    </tr>\n",
       "  </tbody>\n",
       "</table>\n",
       "</div>"
      ],
      "text/plain": [
       "                                     LOCATION  DATETIME  datetime\n",
       "DATETIME DATETIME DATETIME DATETIME                              \n",
       "2014     12       31       16               1         1         1\n",
       "                           18               1         1         1\n",
       "2015     1        1        3                1         1         1\n",
       "                           21               1         1         1\n",
       "                           22               2         2         2"
      ]
     },
     "execution_count": 40,
     "metadata": {},
     "output_type": "execute_result"
    }
   ],
   "source": [
    "times = pd.to_datetime(pratts_bottom_tweets.DATETIME)\n",
    "group_conditions = [times.dt.year, times.dt.month, times.dt.day, times.dt.hour]\n",
    "pratts_bottom_tweets.groupby(group_conditions).count()"
   ]
  },
  {
   "cell_type": "code",
   "execution_count": 45,
   "metadata": {},
   "outputs": [],
   "source": [
    "times = pd.to_datetime(tweets_by_datetime_and_location.DATETIME)\n",
    "group_conditions = [tweets_by_datetime_and_location.LOCATION, times.dt.year, times.dt.month, times.dt.day, times.dt.hour]\n",
    "hourly_tweets_by_location = tweets_by_datetime_and_location.groupby(group_conditions).count()"
   ]
  },
  {
   "cell_type": "code",
   "execution_count": 46,
   "metadata": {},
   "outputs": [
    {
     "data": {
      "text/html": [
       "<div>\n",
       "<style scoped>\n",
       "    .dataframe tbody tr th:only-of-type {\n",
       "        vertical-align: middle;\n",
       "    }\n",
       "\n",
       "    .dataframe tbody tr th {\n",
       "        vertical-align: top;\n",
       "    }\n",
       "\n",
       "    .dataframe thead th {\n",
       "        text-align: right;\n",
       "    }\n",
       "</style>\n",
       "<table border=\"1\" class=\"dataframe\">\n",
       "  <thead>\n",
       "    <tr style=\"text-align: right;\">\n",
       "      <th></th>\n",
       "      <th></th>\n",
       "      <th></th>\n",
       "      <th></th>\n",
       "      <th></th>\n",
       "      <th>DATETIME</th>\n",
       "      <th>datetime</th>\n",
       "    </tr>\n",
       "    <tr>\n",
       "      <th>LOCATION</th>\n",
       "      <th>DATETIME</th>\n",
       "      <th>DATETIME</th>\n",
       "      <th>DATETIME</th>\n",
       "      <th>DATETIME</th>\n",
       "      <th></th>\n",
       "      <th></th>\n",
       "    </tr>\n",
       "  </thead>\n",
       "  <tbody>\n",
       "    <tr>\n",
       "      <th rowspan=\"5\" valign=\"top\">Barking; London</th>\n",
       "      <th rowspan=\"5\" valign=\"top\">2014</th>\n",
       "      <th rowspan=\"5\" valign=\"top\">12</th>\n",
       "      <th rowspan=\"5\" valign=\"top\">31</th>\n",
       "      <th>4</th>\n",
       "      <td>7</td>\n",
       "      <td>7</td>\n",
       "    </tr>\n",
       "    <tr>\n",
       "      <th>5</th>\n",
       "      <td>2</td>\n",
       "      <td>2</td>\n",
       "    </tr>\n",
       "    <tr>\n",
       "      <th>6</th>\n",
       "      <td>6</td>\n",
       "      <td>6</td>\n",
       "    </tr>\n",
       "    <tr>\n",
       "      <th>7</th>\n",
       "      <td>9</td>\n",
       "      <td>9</td>\n",
       "    </tr>\n",
       "    <tr>\n",
       "      <th>8</th>\n",
       "      <td>24</td>\n",
       "      <td>24</td>\n",
       "    </tr>\n",
       "  </tbody>\n",
       "</table>\n",
       "</div>"
      ],
      "text/plain": [
       "                                                     DATETIME  datetime\n",
       "LOCATION        DATETIME DATETIME DATETIME DATETIME                    \n",
       "Barking; London 2014     12       31       4                7         7\n",
       "                                           5                2         2\n",
       "                                           6                6         6\n",
       "                                           7                9         9\n",
       "                                           8               24        24"
      ]
     },
     "execution_count": 46,
     "metadata": {},
     "output_type": "execute_result"
    }
   ],
   "source": [
    "hourly_tweets_by_location.head()"
   ]
  },
  {
   "cell_type": "code",
   "execution_count": 50,
   "metadata": {},
   "outputs": [
    {
     "data": {
      "text/plain": [
       "DATETIME    7\n",
       "datetime    7\n",
       "Name: (Barking; London, 2014, 12, 31, 4), dtype: int64"
      ]
     },
     "execution_count": 50,
     "metadata": {},
     "output_type": "execute_result"
    }
   ],
   "source": [
    "hourly_tweets_by_location.iloc[0]"
   ]
  },
  {
   "cell_type": "code",
   "execution_count": null,
   "metadata": {
    "collapsed": true
   },
   "outputs": [],
   "source": []
  }
 ],
 "metadata": {
  "kernelspec": {
   "display_name": "Python 3",
   "language": "python",
   "name": "python3"
  },
  "language_info": {
   "codemirror_mode": {
    "name": "ipython",
    "version": 3
   },
   "file_extension": ".py",
   "mimetype": "text/x-python",
   "name": "python",
   "nbconvert_exporter": "python",
   "pygments_lexer": "ipython3",
   "version": "3.6.4"
  }
 },
 "nbformat": 4,
 "nbformat_minor": 2
}
