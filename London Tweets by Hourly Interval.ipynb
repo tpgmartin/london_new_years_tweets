{
 "cells": [
  {
   "cell_type": "code",
   "execution_count": 1,
   "metadata": {
    "collapsed": true
   },
   "outputs": [],
   "source": [
    "import datetime\n",
    "from gensim import corpora, models, similarities\n",
    "import math\n",
    "import nltk\n",
    "from nltk import word_tokenize\n",
    "from nltk.corpus import stopwords\n",
    "from nltk.stem.porter import *\n",
    "import numpy as np\n",
    "import pandas as pd\n",
    "import re\n",
    "from sklearn.feature_extraction.text import TfidfVectorizer\n",
    "import string"
   ]
  },
  {
   "cell_type": "code",
   "execution_count": 2,
   "metadata": {
    "collapsed": true
   },
   "outputs": [],
   "source": [
    "tweets = pd.read_csv(\"./data/london_tweets.csv\", encoding=\"latin1\")"
   ]
  },
  {
   "cell_type": "code",
   "execution_count": 3,
   "metadata": {},
   "outputs": [
    {
     "data": {
      "text/html": [
       "<div>\n",
       "<style scoped>\n",
       "    .dataframe tbody tr th:only-of-type {\n",
       "        vertical-align: middle;\n",
       "    }\n",
       "\n",
       "    .dataframe tbody tr th {\n",
       "        vertical-align: top;\n",
       "    }\n",
       "\n",
       "    .dataframe thead th {\n",
       "        text-align: right;\n",
       "    }\n",
       "</style>\n",
       "<table border=\"1\" class=\"dataframe\">\n",
       "  <thead>\n",
       "    <tr style=\"text-align: right;\">\n",
       "      <th></th>\n",
       "      <th>id</th>\n",
       "      <th>Name</th>\n",
       "      <th>X</th>\n",
       "      <th>Y</th>\n",
       "      <th>LONGITUDE</th>\n",
       "      <th>LATITUDE</th>\n",
       "      <th>MESSAGEDATE</th>\n",
       "      <th>USERID</th>\n",
       "      <th>USERSCREENNAME</th>\n",
       "      <th>MESSAGETEXT</th>\n",
       "      <th>LOCATION</th>\n",
       "      <th>HASHTAGS</th>\n",
       "      <th>ISRETWEET</th>\n",
       "    </tr>\n",
       "  </thead>\n",
       "  <tbody>\n",
       "    <tr>\n",
       "      <th>0</th>\n",
       "      <td>550226818624942080</td>\n",
       "      <td>NaN</td>\n",
       "      <td>-0.262150</td>\n",
       "      <td>51.391407</td>\n",
       "      <td>-0.262150</td>\n",
       "      <td>51.391407</td>\n",
       "      <td>31/12/2014 09:47:50</td>\n",
       "      <td>113918054</td>\n",
       "      <td>12Elbestreet</td>\n",
       "      <td>@julieo25 Not yet got tics for Liverpool waiti...</td>\n",
       "      <td>Kingston upon Thames</td>\n",
       "      <td>NaN</td>\n",
       "      <td>0</td>\n",
       "    </tr>\n",
       "    <tr>\n",
       "      <th>1</th>\n",
       "      <td>550226827944660992</td>\n",
       "      <td>NaN</td>\n",
       "      <td>-0.014891</td>\n",
       "      <td>51.354042</td>\n",
       "      <td>-0.014891</td>\n",
       "      <td>51.354042</td>\n",
       "      <td>31/12/2014 09:47:53</td>\n",
       "      <td>55872342</td>\n",
       "      <td>MissGee_Pee</td>\n",
       "      <td>If it doesn't make you happy by December 31st....</td>\n",
       "      <td>Croydon</td>\n",
       "      <td>NaN</td>\n",
       "      <td>0</td>\n",
       "    </tr>\n",
       "    <tr>\n",
       "      <th>2</th>\n",
       "      <td>550226837537058816</td>\n",
       "      <td>NaN</td>\n",
       "      <td>0.006698</td>\n",
       "      <td>51.532020</td>\n",
       "      <td>0.006698</td>\n",
       "      <td>51.532021</td>\n",
       "      <td>31/12/2014 09:47:55</td>\n",
       "      <td>147266450</td>\n",
       "      <td>vinita_ramtri</td>\n",
       "      <td>@westfieldstrat thanks; and are you open tomor...</td>\n",
       "      <td>Newham</td>\n",
       "      <td>NaN</td>\n",
       "      <td>0</td>\n",
       "    </tr>\n",
       "    <tr>\n",
       "      <th>3</th>\n",
       "      <td>550227214227505152</td>\n",
       "      <td>NaN</td>\n",
       "      <td>0.214417</td>\n",
       "      <td>51.582535</td>\n",
       "      <td>0.214417</td>\n",
       "      <td>51.582535</td>\n",
       "      <td>31/12/2014 09:49:25</td>\n",
       "      <td>518928608</td>\n",
       "      <td>CallumGordon7</td>\n",
       "      <td>@WestHam_Central but he is</td>\n",
       "      <td>Havering</td>\n",
       "      <td>NaN</td>\n",
       "      <td>0</td>\n",
       "    </tr>\n",
       "    <tr>\n",
       "      <th>4</th>\n",
       "      <td>550227602011856896</td>\n",
       "      <td>NaN</td>\n",
       "      <td>-0.104869</td>\n",
       "      <td>51.509530</td>\n",
       "      <td>-0.104869</td>\n",
       "      <td>51.509529</td>\n",
       "      <td>31/12/2014 09:50:57</td>\n",
       "      <td>151094999</td>\n",
       "      <td>HevnKISZ</td>\n",
       "      <td>@JJJ_Jeeppy &gt;&gt; #             XD</td>\n",
       "      <td>Southwark</td>\n",
       "      <td></td>\n",
       "      <td>0</td>\n",
       "    </tr>\n",
       "  </tbody>\n",
       "</table>\n",
       "</div>"
      ],
      "text/plain": [
       "                   id  Name         X          Y  LONGITUDE   LATITUDE  \\\n",
       "0  550226818624942080   NaN -0.262150  51.391407  -0.262150  51.391407   \n",
       "1  550226827944660992   NaN -0.014891  51.354042  -0.014891  51.354042   \n",
       "2  550226837537058816   NaN  0.006698  51.532020   0.006698  51.532021   \n",
       "3  550227214227505152   NaN  0.214417  51.582535   0.214417  51.582535   \n",
       "4  550227602011856896   NaN -0.104869  51.509530  -0.104869  51.509529   \n",
       "\n",
       "           MESSAGEDATE     USERID USERSCREENNAME  \\\n",
       "0  31/12/2014 09:47:50  113918054   12Elbestreet   \n",
       "1  31/12/2014 09:47:53   55872342    MissGee_Pee   \n",
       "2  31/12/2014 09:47:55  147266450  vinita_ramtri   \n",
       "3  31/12/2014 09:49:25  518928608  CallumGordon7   \n",
       "4  31/12/2014 09:50:57  151094999       HevnKISZ   \n",
       "\n",
       "                                         MESSAGETEXT              LOCATION  \\\n",
       "0  @julieo25 Not yet got tics for Liverpool waiti...  Kingston upon Thames   \n",
       "1  If it doesn't make you happy by December 31st....               Croydon   \n",
       "2  @westfieldstrat thanks; and are you open tomor...                Newham   \n",
       "3                       @WestHam_Central but he is                Havering   \n",
       "4                    @JJJ_Jeeppy >> #             XD             Southwark   \n",
       "\n",
       "       HASHTAGS  ISRETWEET  \n",
       "0           NaN          0  \n",
       "1           NaN          0  \n",
       "2           NaN          0  \n",
       "3           NaN          0  \n",
       "4                        0  "
      ]
     },
     "execution_count": 3,
     "metadata": {},
     "output_type": "execute_result"
    }
   ],
   "source": [
    "tweets.head()"
   ]
  },
  {
   "cell_type": "code",
   "execution_count": 4,
   "metadata": {},
   "outputs": [
    {
     "data": {
      "text/plain": [
       "(97778, 13)"
      ]
     },
     "execution_count": 4,
     "metadata": {},
     "output_type": "execute_result"
    }
   ],
   "source": [
    "tweets.shape"
   ]
  },
  {
   "cell_type": "code",
   "execution_count": 5,
   "metadata": {},
   "outputs": [
    {
     "data": {
      "text/plain": [
       "(19945,)"
      ]
     },
     "execution_count": 5,
     "metadata": {},
     "output_type": "execute_result"
    }
   ],
   "source": [
    "tweets.USERID.unique().shape"
   ]
  },
  {
   "cell_type": "code",
   "execution_count": 6,
   "metadata": {
    "collapsed": true
   },
   "outputs": [],
   "source": [
    "tweets[\"datetime\"] = pd.to_datetime(tweets.MESSAGEDATE)"
   ]
  },
  {
   "cell_type": "code",
   "execution_count": 7,
   "metadata": {
    "collapsed": true
   },
   "outputs": [],
   "source": [
    "tweets.to_csv(\"./data/london_tweets.csv\", index=False)"
   ]
  },
  {
   "cell_type": "code",
   "execution_count": 10,
   "metadata": {},
   "outputs": [
    {
     "data": {
      "text/html": [
       "<div>\n",
       "<style scoped>\n",
       "    .dataframe tbody tr th:only-of-type {\n",
       "        vertical-align: middle;\n",
       "    }\n",
       "\n",
       "    .dataframe tbody tr th {\n",
       "        vertical-align: top;\n",
       "    }\n",
       "\n",
       "    .dataframe thead th {\n",
       "        text-align: right;\n",
       "    }\n",
       "</style>\n",
       "<table border=\"1\" class=\"dataframe\">\n",
       "  <thead>\n",
       "    <tr style=\"text-align: right;\">\n",
       "      <th></th>\n",
       "      <th>id</th>\n",
       "      <th>Name</th>\n",
       "      <th>X</th>\n",
       "      <th>Y</th>\n",
       "      <th>LONGITUDE</th>\n",
       "      <th>LATITUDE</th>\n",
       "      <th>MESSAGEDATE</th>\n",
       "      <th>USERID</th>\n",
       "      <th>USERSCREENNAME</th>\n",
       "      <th>MESSAGETEXT</th>\n",
       "      <th>LOCATION</th>\n",
       "      <th>HASHTAGS</th>\n",
       "      <th>ISRETWEET</th>\n",
       "      <th>datetime</th>\n",
       "    </tr>\n",
       "  </thead>\n",
       "  <tbody>\n",
       "  </tbody>\n",
       "</table>\n",
       "</div>"
      ],
      "text/plain": [
       "Empty DataFrame\n",
       "Columns: [id, Name, X, Y, LONGITUDE, LATITUDE, MESSAGEDATE, USERID, USERSCREENNAME, MESSAGETEXT, LOCATION, HASHTAGS, ISRETWEET, datetime]\n",
       "Index: []"
      ]
     },
     "execution_count": 10,
     "metadata": {},
     "output_type": "execute_result"
    }
   ],
   "source": [
    "tweets[tweets.datetime.isnull()]"
   ]
  },
  {
   "cell_type": "code",
   "execution_count": null,
   "metadata": {
    "collapsed": true
   },
   "outputs": [],
   "source": []
  }
 ],
 "metadata": {
  "kernelspec": {
   "display_name": "Python 3",
   "language": "python",
   "name": "python3"
  },
  "language_info": {
   "codemirror_mode": {
    "name": "ipython",
    "version": 3
   },
   "file_extension": ".py",
   "mimetype": "text/x-python",
   "name": "python",
   "nbconvert_exporter": "python",
   "pygments_lexer": "ipython3",
   "version": "3.6.4"
  }
 },
 "nbformat": 4,
 "nbformat_minor": 2
}
