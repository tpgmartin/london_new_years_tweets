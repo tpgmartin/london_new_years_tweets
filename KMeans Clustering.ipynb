{
 "cells": [
  {
   "cell_type": "code",
   "execution_count": 1,
   "metadata": {
    "collapsed": true
   },
   "outputs": [],
   "source": [
    "import datetime\n",
    "import math\n",
    "import matplotlib.pyplot as plt\n",
    "import nltk\n",
    "from nltk import word_tokenize\n",
    "from nltk.corpus import stopwords\n",
    "from nltk.stem.porter import *\n",
    "import numpy as np\n",
    "import pandas as pd\n",
    "import re\n",
    "from sklearn.cluster import KMeans\n",
    "from sklearn.decomposition import PCA\n",
    "from sklearn.feature_extraction.text import TfidfVectorizer\n",
    "from sklearn import metrics\n",
    "from sklearn.metrics import pairwise_distances\n",
    "import string"
   ]
  },
  {
   "cell_type": "code",
   "execution_count": 2,
   "metadata": {
    "collapsed": true
   },
   "outputs": [],
   "source": [
    "data = pd.read_csv(\"./data/norm_by_ref_datime.csv\")"
   ]
  },
  {
   "cell_type": "code",
   "execution_count": 3,
   "metadata": {},
   "outputs": [
    {
     "data": {
      "text/html": [
       "<div>\n",
       "<style scoped>\n",
       "    .dataframe tbody tr th:only-of-type {\n",
       "        vertical-align: middle;\n",
       "    }\n",
       "\n",
       "    .dataframe tbody tr th {\n",
       "        vertical-align: top;\n",
       "    }\n",
       "\n",
       "    .dataframe thead th {\n",
       "        text-align: right;\n",
       "    }\n",
       "</style>\n",
       "<table border=\"1\" class=\"dataframe\">\n",
       "  <thead>\n",
       "    <tr style=\"text-align: right;\">\n",
       "      <th></th>\n",
       "      <th>2014-12-31 04:00:00</th>\n",
       "      <th>2014-12-31 05:00:00</th>\n",
       "      <th>2014-12-31 09:00:00</th>\n",
       "      <th>2014-12-31 10:00:00</th>\n",
       "      <th>2014-12-31 11:00:00</th>\n",
       "      <th>2014-12-31 12:00:00</th>\n",
       "      <th>2014-12-31 13:00:00</th>\n",
       "      <th>2014-12-31 14:00:00</th>\n",
       "      <th>2014-12-31 16:00:00</th>\n",
       "      <th>2014-12-31 17:00:00</th>\n",
       "      <th>...</th>\n",
       "      <th>2014-12-31 07:00:00</th>\n",
       "      <th>2014-12-31 08:00:00</th>\n",
       "      <th>2014-12-31 15:00:00</th>\n",
       "      <th>2014-12-31 21:00:00</th>\n",
       "      <th>2015-01-01 05:00:00</th>\n",
       "      <th>2015-01-01 08:00:00</th>\n",
       "      <th>2015-02-01 03:00:00</th>\n",
       "      <th>2015-01-01 06:00:00</th>\n",
       "      <th>2015-01-01 07:00:00</th>\n",
       "      <th>Ref</th>\n",
       "    </tr>\n",
       "  </thead>\n",
       "  <tbody>\n",
       "    <tr>\n",
       "      <th>0</th>\n",
       "      <td>0.222222</td>\n",
       "      <td>0.000000</td>\n",
       "      <td>0.000000</td>\n",
       "      <td>0.333333</td>\n",
       "      <td>0.888889</td>\n",
       "      <td>0.555556</td>\n",
       "      <td>0.111111</td>\n",
       "      <td>0.555556</td>\n",
       "      <td>0.555556</td>\n",
       "      <td>0.555556</td>\n",
       "      <td>...</td>\n",
       "      <td>0.000000</td>\n",
       "      <td>0.000000</td>\n",
       "      <td>0.000000</td>\n",
       "      <td>0.000000</td>\n",
       "      <td>0.000000</td>\n",
       "      <td>0.000000</td>\n",
       "      <td>0.000000</td>\n",
       "      <td>0.000000</td>\n",
       "      <td>0.000000</td>\n",
       "      <td>11</td>\n",
       "    </tr>\n",
       "    <tr>\n",
       "      <th>1</th>\n",
       "      <td>0.000000</td>\n",
       "      <td>0.000000</td>\n",
       "      <td>0.076923</td>\n",
       "      <td>0.410256</td>\n",
       "      <td>0.282051</td>\n",
       "      <td>0.205128</td>\n",
       "      <td>0.128205</td>\n",
       "      <td>0.256410</td>\n",
       "      <td>0.230769</td>\n",
       "      <td>0.179487</td>\n",
       "      <td>...</td>\n",
       "      <td>0.000000</td>\n",
       "      <td>0.076923</td>\n",
       "      <td>0.076923</td>\n",
       "      <td>0.128205</td>\n",
       "      <td>0.000000</td>\n",
       "      <td>0.230769</td>\n",
       "      <td>0.076923</td>\n",
       "      <td>0.000000</td>\n",
       "      <td>0.000000</td>\n",
       "      <td>21</td>\n",
       "    </tr>\n",
       "    <tr>\n",
       "      <th>2</th>\n",
       "      <td>0.000000</td>\n",
       "      <td>0.000000</td>\n",
       "      <td>0.032258</td>\n",
       "      <td>0.096774</td>\n",
       "      <td>0.193548</td>\n",
       "      <td>0.161290</td>\n",
       "      <td>0.129032</td>\n",
       "      <td>0.161290</td>\n",
       "      <td>0.161290</td>\n",
       "      <td>0.129032</td>\n",
       "      <td>...</td>\n",
       "      <td>0.000000</td>\n",
       "      <td>0.000000</td>\n",
       "      <td>0.032258</td>\n",
       "      <td>0.000000</td>\n",
       "      <td>0.064516</td>\n",
       "      <td>0.032258</td>\n",
       "      <td>0.000000</td>\n",
       "      <td>0.129032</td>\n",
       "      <td>0.000000</td>\n",
       "      <td>31</td>\n",
       "    </tr>\n",
       "    <tr>\n",
       "      <th>3</th>\n",
       "      <td>0.039216</td>\n",
       "      <td>0.000000</td>\n",
       "      <td>0.196078</td>\n",
       "      <td>0.156863</td>\n",
       "      <td>0.529412</td>\n",
       "      <td>0.823529</td>\n",
       "      <td>0.490196</td>\n",
       "      <td>0.411765</td>\n",
       "      <td>0.392157</td>\n",
       "      <td>0.411765</td>\n",
       "      <td>...</td>\n",
       "      <td>0.058824</td>\n",
       "      <td>0.156863</td>\n",
       "      <td>0.705882</td>\n",
       "      <td>0.313725</td>\n",
       "      <td>0.000000</td>\n",
       "      <td>0.000000</td>\n",
       "      <td>0.019608</td>\n",
       "      <td>0.000000</td>\n",
       "      <td>0.000000</td>\n",
       "      <td>41</td>\n",
       "    </tr>\n",
       "    <tr>\n",
       "      <th>4</th>\n",
       "      <td>0.000000</td>\n",
       "      <td>0.064516</td>\n",
       "      <td>0.645161</td>\n",
       "      <td>0.494624</td>\n",
       "      <td>0.311828</td>\n",
       "      <td>0.763441</td>\n",
       "      <td>0.462366</td>\n",
       "      <td>0.494624</td>\n",
       "      <td>0.301075</td>\n",
       "      <td>0.462366</td>\n",
       "      <td>...</td>\n",
       "      <td>0.290323</td>\n",
       "      <td>0.559140</td>\n",
       "      <td>0.569892</td>\n",
       "      <td>0.150538</td>\n",
       "      <td>0.064516</td>\n",
       "      <td>0.118280</td>\n",
       "      <td>0.118280</td>\n",
       "      <td>0.096774</td>\n",
       "      <td>0.053763</td>\n",
       "      <td>51</td>\n",
       "    </tr>\n",
       "  </tbody>\n",
       "</table>\n",
       "<p>5 rows × 49 columns</p>\n",
       "</div>"
      ],
      "text/plain": [
       "   2014-12-31 04:00:00  2014-12-31 05:00:00  2014-12-31 09:00:00  \\\n",
       "0             0.222222             0.000000             0.000000   \n",
       "1             0.000000             0.000000             0.076923   \n",
       "2             0.000000             0.000000             0.032258   \n",
       "3             0.039216             0.000000             0.196078   \n",
       "4             0.000000             0.064516             0.645161   \n",
       "\n",
       "   2014-12-31 10:00:00  2014-12-31 11:00:00  2014-12-31 12:00:00  \\\n",
       "0             0.333333             0.888889             0.555556   \n",
       "1             0.410256             0.282051             0.205128   \n",
       "2             0.096774             0.193548             0.161290   \n",
       "3             0.156863             0.529412             0.823529   \n",
       "4             0.494624             0.311828             0.763441   \n",
       "\n",
       "   2014-12-31 13:00:00  2014-12-31 14:00:00  2014-12-31 16:00:00  \\\n",
       "0             0.111111             0.555556             0.555556   \n",
       "1             0.128205             0.256410             0.230769   \n",
       "2             0.129032             0.161290             0.161290   \n",
       "3             0.490196             0.411765             0.392157   \n",
       "4             0.462366             0.494624             0.301075   \n",
       "\n",
       "   2014-12-31 17:00:00 ...   2014-12-31 07:00:00  2014-12-31 08:00:00  \\\n",
       "0             0.555556 ...              0.000000             0.000000   \n",
       "1             0.179487 ...              0.000000             0.076923   \n",
       "2             0.129032 ...              0.000000             0.000000   \n",
       "3             0.411765 ...              0.058824             0.156863   \n",
       "4             0.462366 ...              0.290323             0.559140   \n",
       "\n",
       "   2014-12-31 15:00:00  2014-12-31 21:00:00  2015-01-01 05:00:00  \\\n",
       "0             0.000000             0.000000             0.000000   \n",
       "1             0.076923             0.128205             0.000000   \n",
       "2             0.032258             0.000000             0.064516   \n",
       "3             0.705882             0.313725             0.000000   \n",
       "4             0.569892             0.150538             0.064516   \n",
       "\n",
       "   2015-01-01 08:00:00  2015-02-01 03:00:00  2015-01-01 06:00:00  \\\n",
       "0             0.000000             0.000000             0.000000   \n",
       "1             0.230769             0.076923             0.000000   \n",
       "2             0.032258             0.000000             0.129032   \n",
       "3             0.000000             0.019608             0.000000   \n",
       "4             0.118280             0.118280             0.096774   \n",
       "\n",
       "   2015-01-01 07:00:00  Ref  \n",
       "0             0.000000   11  \n",
       "1             0.000000   21  \n",
       "2             0.000000   31  \n",
       "3             0.000000   41  \n",
       "4             0.053763   51  \n",
       "\n",
       "[5 rows x 49 columns]"
      ]
     },
     "execution_count": 3,
     "metadata": {},
     "output_type": "execute_result"
    }
   ],
   "source": [
    "data.head()"
   ]
  },
  {
   "cell_type": "code",
   "execution_count": 12,
   "metadata": {
    "collapsed": true
   },
   "outputs": [],
   "source": [
    "reduced_data = PCA(n_components=2).fit_transform(data.loc[:, data.columns != \"Ref\"])"
   ]
  },
  {
   "cell_type": "code",
   "execution_count": 20,
   "metadata": {},
   "outputs": [
    {
     "name": "stdout",
     "output_type": "stream",
     "text": [
      "n_clusters 2\n",
      "score 0.4513256599787443\n",
      "----------\n",
      "n_clusters 3\n",
      "score 0.35547598302733735\n",
      "----------\n",
      "n_clusters 4\n",
      "score 0.3531043152702321\n",
      "----------\n",
      "n_clusters 5\n",
      "score 0.37603655702296374\n",
      "----------\n",
      "n_clusters 6\n",
      "score 0.40117403203193813\n",
      "----------\n",
      "n_clusters 7\n",
      "score 0.4215278482452245\n",
      "----------\n",
      "n_clusters 8\n",
      "score 0.3976524205557622\n",
      "----------\n",
      "n_clusters 9\n",
      "score 0.3928355659853268\n",
      "----------\n",
      "n_clusters 10\n",
      "score 0.4015377227656791\n",
      "----------\n",
      "n_clusters 11\n",
      "score 0.40388076479097273\n",
      "----------\n",
      "n_clusters 12\n",
      "score 0.4081098437706097\n",
      "----------\n",
      "n_clusters 13\n",
      "score 0.39792053334441724\n",
      "----------\n",
      "n_clusters 14\n",
      "score 0.40379055213582393\n",
      "----------\n",
      "n_clusters 15\n",
      "score 0.40575571592516796\n",
      "----------\n",
      "n_clusters 16\n",
      "score 0.4058092146425829\n",
      "----------\n",
      "n_clusters 17\n",
      "score 0.3829155394728519\n",
      "----------\n",
      "n_clusters 18\n",
      "score 0.3886380214620283\n",
      "----------\n",
      "n_clusters 19\n",
      "score 0.3925100312844365\n",
      "----------\n",
      "2 0.4513256599787443\n"
     ]
    }
   ],
   "source": [
    "best = {\"n_clusters\": 0, \"score\": 0}\n",
    "\n",
    "for n_clusters in range(2,20):\n",
    "    kmeans = KMeans(init='k-means++', n_clusters=n_clusters, n_init=10, random_state=1).fit(reduced_data)\n",
    "    labels = kmeans.labels_\n",
    "    score = metrics.silhouette_score(reduced_data, labels, metric='euclidean')\n",
    "    print(\"n_clusters\", n_clusters)\n",
    "    print(\"score\", score)\n",
    "    print(\"----------\")\n",
    "    if score > best[\"score\"]:\n",
    "        best[\"n_clusters\"] = n_clusters\n",
    "        best[\"score\"] = score\n",
    "\n",
    "print(best[\"n_clusters\"], best[\"score\"])"
   ]
  },
  {
   "cell_type": "code",
   "execution_count": 21,
   "metadata": {
    "collapsed": true
   },
   "outputs": [],
   "source": [
    "kmeans = KMeans(init='k-means++', n_clusters=7, n_init=10, random_state=1).fit(reduced_data)"
   ]
  },
  {
   "cell_type": "code",
   "execution_count": 22,
   "metadata": {},
   "outputs": [
    {
     "data": {
      "image/png": "[encoded data removed]",
      "text/plain": [
       "<Figure size 432x288 with 1 Axes>"
      ]
     },
     "metadata": {},
     "output_type": "display_data"
    }
   ],
   "source": [
    "h = .02     # point in the mesh [x_min, x_max]x[y_min, y_max].\n",
    "\n",
    "# Plot the decision boundary. For that, we will assign a color to each\n",
    "x_min, x_max = reduced_data[:, 0].min() - 1, reduced_data[:, 0].max() + 1\n",
    "y_min, y_max = reduced_data[:, 1].min() - 1, reduced_data[:, 1].max() + 1\n",
    "xx, yy = np.meshgrid(np.arange(x_min, x_max, h), np.arange(y_min, y_max, h))\n",
    "\n",
    "# Obtain labels for each point in mesh. Use last trained model.\n",
    "Z = kmeans.predict(np.c_[xx.ravel(), yy.ravel()])\n",
    "\n",
    "# Put the result into a color plot\n",
    "Z = Z.reshape(xx.shape)\n",
    "plt.figure(1)\n",
    "plt.clf()\n",
    "plt.imshow(Z, interpolation='nearest',\n",
    "           extent=(xx.min(), xx.max(), yy.min(), yy.max()),\n",
    "           cmap=plt.cm.Paired,\n",
    "           aspect='auto', origin='lower')\n",
    "\n",
    "plt.plot(reduced_data[:, 0], reduced_data[:, 1], 'k.', markersize=2)\n",
    "# Plot the centroids as a white X\n",
    "centroids = kmeans.cluster_centers_\n",
    "plt.scatter(centroids[:, 0], centroids[:, 1],\n",
    "            marker='x', s=169, linewidths=3,\n",
    "            color='w', zorder=10)\n",
    "plt.title('K-means clustering on the digits dataset (PCA-reduced data)\\n'\n",
    "          'Centroids are marked with white cross')\n",
    "plt.xlim(x_min, x_max)\n",
    "plt.ylim(y_min, y_max)\n",
    "plt.xticks(())\n",
    "plt.yticks(())\n",
    "plt.show()\n"
   ]
  },
  {
   "cell_type": "code",
   "execution_count": 32,
   "metadata": {},
   "outputs": [
    {
     "data": {
      "text/plain": [
       "array([6, 1, 1, 5, 5, 2, 0, 0, 4, 6, 1, 6, 5, 2, 5, 5, 6, 0, 1, 6, 5, 0,\n",
       "       0, 5, 2, 6, 0, 1, 5, 2, 2, 2, 0, 5, 5, 0, 6, 6, 5, 2, 0, 1, 5, 0,\n",
       "       0, 6, 6, 0, 5, 5, 5, 2, 6, 1, 6, 1, 5, 5, 5, 5, 0, 6, 3, 3, 1, 2,\n",
       "       6, 0, 6, 4, 3, 4, 4, 5, 1, 1, 6, 6, 4, 3, 4], dtype=int32)"
      ]
     },
     "execution_count": 32,
     "metadata": {},
     "output_type": "execute_result"
    }
   ],
   "source": [
    "kmeans.labels_"
   ]
  },
  {
   "cell_type": "code",
   "execution_count": 26,
   "metadata": {},
   "outputs": [
    {
     "data": {
      "text/plain": [
       "(81, 49)"
      ]
     },
     "execution_count": 26,
     "metadata": {},
     "output_type": "execute_result"
    }
   ],
   "source": [
    "data.shape"
   ]
  },
  {
   "cell_type": "code",
   "execution_count": 33,
   "metadata": {},
   "outputs": [],
   "source": [
    "data[\"Cluster\"] = kmeans.labels_"
   ]
  },
  {
   "cell_type": "code",
   "execution_count": 36,
   "metadata": {},
   "outputs": [],
   "source": [
    "data[[\"Ref\", \"Cluster\"]].to_csv(\"./data/ref_to_cluster.csv\", index=False)"
   ]
  },
  {
   "cell_type": "code",
   "execution_count": null,
   "metadata": {
    "collapsed": true
   },
   "outputs": [],
   "source": []
  }
 ],
 "metadata": {
  "kernelspec": {
   "display_name": "Python 3",
   "language": "python",
   "name": "python3"
  },
  "language_info": {
   "codemirror_mode": {
    "name": "ipython",
    "version": 3
   },
   "file_extension": ".py",
   "mimetype": "text/x-python",
   "name": "python",
   "nbconvert_exporter": "python",
   "pygments_lexer": "ipython3",
   "version": "3.6.4"
  }
 },
 "nbformat": 4,
 "nbformat_minor": 2
}
