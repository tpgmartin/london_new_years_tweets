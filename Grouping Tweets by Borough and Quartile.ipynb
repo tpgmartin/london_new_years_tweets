{
 "cells": [
  {
   "cell_type": "code",
   "execution_count": 1,
   "metadata": {
    "collapsed": true
   },
   "outputs": [],
   "source": [
    "import datetime\n",
    "from gensim import corpora, models, similarities\n",
    "import math\n",
    "import nltk\n",
    "from nltk import word_tokenize\n",
    "from nltk.corpus import stopwords\n",
    "from nltk.stem.porter import *\n",
    "import numpy as np\n",
    "import pandas as pd\n",
    "import re\n",
    "from sklearn.feature_extraction.text import TfidfVectorizer\n",
    "import string"
   ]
  },
  {
   "cell_type": "code",
   "execution_count": 2,
   "metadata": {
    "collapsed": true
   },
   "outputs": [],
   "source": [
    "tweets = pd.read_csv(\"./data/london_tweets.csv\", encoding=\"latin1\")"
   ]
  },
  {
   "cell_type": "code",
   "execution_count": 3,
   "metadata": {},
   "outputs": [
    {
     "data": {
      "text/html": [
       "<div>\n",
       "<style scoped>\n",
       "    .dataframe tbody tr th:only-of-type {\n",
       "        vertical-align: middle;\n",
       "    }\n",
       "\n",
       "    .dataframe tbody tr th {\n",
       "        vertical-align: top;\n",
       "    }\n",
       "\n",
       "    .dataframe thead th {\n",
       "        text-align: right;\n",
       "    }\n",
       "</style>\n",
       "<table border=\"1\" class=\"dataframe\">\n",
       "  <thead>\n",
       "    <tr style=\"text-align: right;\">\n",
       "      <th></th>\n",
       "      <th>id</th>\n",
       "      <th>Name</th>\n",
       "      <th>X</th>\n",
       "      <th>Y</th>\n",
       "      <th>LONGITUDE</th>\n",
       "      <th>LATITUDE</th>\n",
       "      <th>MESSAGEDATE</th>\n",
       "      <th>USERID</th>\n",
       "      <th>USERSCREENNAME</th>\n",
       "      <th>MESSAGETEXT</th>\n",
       "      <th>LOCATION</th>\n",
       "      <th>HASHTAGS</th>\n",
       "      <th>ISRETWEET</th>\n",
       "    </tr>\n",
       "  </thead>\n",
       "  <tbody>\n",
       "    <tr>\n",
       "      <th>0</th>\n",
       "      <td>550226818624942080</td>\n",
       "      <td>NaN</td>\n",
       "      <td>-0.262150</td>\n",
       "      <td>51.391407</td>\n",
       "      <td>-0.262150</td>\n",
       "      <td>51.391407</td>\n",
       "      <td>31/12/2014 09:47:50</td>\n",
       "      <td>113918054</td>\n",
       "      <td>12Elbestreet</td>\n",
       "      <td>@julieo25 Not yet got tics for Liverpool waiti...</td>\n",
       "      <td>Kingston upon Thames</td>\n",
       "      <td>NaN</td>\n",
       "      <td>0</td>\n",
       "    </tr>\n",
       "    <tr>\n",
       "      <th>1</th>\n",
       "      <td>550226827944660992</td>\n",
       "      <td>NaN</td>\n",
       "      <td>-0.014891</td>\n",
       "      <td>51.354042</td>\n",
       "      <td>-0.014891</td>\n",
       "      <td>51.354042</td>\n",
       "      <td>31/12/2014 09:47:53</td>\n",
       "      <td>55872342</td>\n",
       "      <td>MissGee_Pee</td>\n",
       "      <td>If it doesn't make you happy by December 31st....</td>\n",
       "      <td>Croydon</td>\n",
       "      <td>NaN</td>\n",
       "      <td>0</td>\n",
       "    </tr>\n",
       "    <tr>\n",
       "      <th>2</th>\n",
       "      <td>550226837537058816</td>\n",
       "      <td>NaN</td>\n",
       "      <td>0.006698</td>\n",
       "      <td>51.532020</td>\n",
       "      <td>0.006698</td>\n",
       "      <td>51.532021</td>\n",
       "      <td>31/12/2014 09:47:55</td>\n",
       "      <td>147266450</td>\n",
       "      <td>vinita_ramtri</td>\n",
       "      <td>@westfieldstrat thanks; and are you open tomor...</td>\n",
       "      <td>Newham</td>\n",
       "      <td>NaN</td>\n",
       "      <td>0</td>\n",
       "    </tr>\n",
       "    <tr>\n",
       "      <th>3</th>\n",
       "      <td>550227214227505152</td>\n",
       "      <td>NaN</td>\n",
       "      <td>0.214417</td>\n",
       "      <td>51.582535</td>\n",
       "      <td>0.214417</td>\n",
       "      <td>51.582535</td>\n",
       "      <td>31/12/2014 09:49:25</td>\n",
       "      <td>518928608</td>\n",
       "      <td>CallumGordon7</td>\n",
       "      <td>@WestHam_Central but he is</td>\n",
       "      <td>Havering</td>\n",
       "      <td>NaN</td>\n",
       "      <td>0</td>\n",
       "    </tr>\n",
       "    <tr>\n",
       "      <th>4</th>\n",
       "      <td>550227602011856896</td>\n",
       "      <td>NaN</td>\n",
       "      <td>-0.104869</td>\n",
       "      <td>51.509530</td>\n",
       "      <td>-0.104869</td>\n",
       "      <td>51.509529</td>\n",
       "      <td>31/12/2014 09:50:57</td>\n",
       "      <td>151094999</td>\n",
       "      <td>HevnKISZ</td>\n",
       "      <td>@JJJ_Jeeppy &gt;&gt; #             XD</td>\n",
       "      <td>Southwark</td>\n",
       "      <td></td>\n",
       "      <td>0</td>\n",
       "    </tr>\n",
       "  </tbody>\n",
       "</table>\n",
       "</div>"
      ],
      "text/plain": [
       "                   id  Name         X          Y  LONGITUDE   LATITUDE  \\\n",
       "0  550226818624942080   NaN -0.262150  51.391407  -0.262150  51.391407   \n",
       "1  550226827944660992   NaN -0.014891  51.354042  -0.014891  51.354042   \n",
       "2  550226837537058816   NaN  0.006698  51.532020   0.006698  51.532021   \n",
       "3  550227214227505152   NaN  0.214417  51.582535   0.214417  51.582535   \n",
       "4  550227602011856896   NaN -0.104869  51.509530  -0.104869  51.509529   \n",
       "\n",
       "           MESSAGEDATE     USERID USERSCREENNAME  \\\n",
       "0  31/12/2014 09:47:50  113918054   12Elbestreet   \n",
       "1  31/12/2014 09:47:53   55872342    MissGee_Pee   \n",
       "2  31/12/2014 09:47:55  147266450  vinita_ramtri   \n",
       "3  31/12/2014 09:49:25  518928608  CallumGordon7   \n",
       "4  31/12/2014 09:50:57  151094999       HevnKISZ   \n",
       "\n",
       "                                         MESSAGETEXT              LOCATION  \\\n",
       "0  @julieo25 Not yet got tics for Liverpool waiti...  Kingston upon Thames   \n",
       "1  If it doesn't make you happy by December 31st....               Croydon   \n",
       "2  @westfieldstrat thanks; and are you open tomor...                Newham   \n",
       "3                       @WestHam_Central but he is                Havering   \n",
       "4                    @JJJ_Jeeppy >> #             XD             Southwark   \n",
       "\n",
       "       HASHTAGS  ISRETWEET  \n",
       "0           NaN          0  \n",
       "1           NaN          0  \n",
       "2           NaN          0  \n",
       "3           NaN          0  \n",
       "4                        0  "
      ]
     },
     "execution_count": 3,
     "metadata": {},
     "output_type": "execute_result"
    }
   ],
   "source": [
    "tweets.head()"
   ]
  },
  {
   "cell_type": "code",
   "execution_count": 7,
   "metadata": {},
   "outputs": [],
   "source": [
    "total_by_borough = tweets.groupby(\"LOCATION\")[\"id\"].agg(\"count\").reset_index()"
   ]
  },
  {
   "cell_type": "code",
   "execution_count": 8,
   "metadata": {},
   "outputs": [
    {
     "data": {
      "text/html": [
       "<div>\n",
       "<style scoped>\n",
       "    .dataframe tbody tr th:only-of-type {\n",
       "        vertical-align: middle;\n",
       "    }\n",
       "\n",
       "    .dataframe tbody tr th {\n",
       "        vertical-align: top;\n",
       "    }\n",
       "\n",
       "    .dataframe thead th {\n",
       "        text-align: right;\n",
       "    }\n",
       "</style>\n",
       "<table border=\"1\" class=\"dataframe\">\n",
       "  <thead>\n",
       "    <tr style=\"text-align: right;\">\n",
       "      <th></th>\n",
       "      <th>LOCATION</th>\n",
       "      <th>id</th>\n",
       "    </tr>\n",
       "  </thead>\n",
       "  <tbody>\n",
       "    <tr>\n",
       "      <th>0</th>\n",
       "      <td>Barking and Dagenham</td>\n",
       "      <td>2035</td>\n",
       "    </tr>\n",
       "    <tr>\n",
       "      <th>1</th>\n",
       "      <td>Barnet</td>\n",
       "      <td>4290</td>\n",
       "    </tr>\n",
       "    <tr>\n",
       "      <th>2</th>\n",
       "      <td>Bexley</td>\n",
       "      <td>2794</td>\n",
       "    </tr>\n",
       "    <tr>\n",
       "      <th>3</th>\n",
       "      <td>Brent</td>\n",
       "      <td>2585</td>\n",
       "    </tr>\n",
       "    <tr>\n",
       "      <th>4</th>\n",
       "      <td>Bromley</td>\n",
       "      <td>3626</td>\n",
       "    </tr>\n",
       "  </tbody>\n",
       "</table>\n",
       "</div>"
      ],
      "text/plain": [
       "               LOCATION    id\n",
       "0  Barking and Dagenham  2035\n",
       "1                Barnet  4290\n",
       "2                Bexley  2794\n",
       "3                 Brent  2585\n",
       "4               Bromley  3626"
      ]
     },
     "execution_count": 8,
     "metadata": {},
     "output_type": "execute_result"
    }
   ],
   "source": [
    "total_by_borough.head()"
   ]
  },
  {
   "cell_type": "code",
   "execution_count": 9,
   "metadata": {
    "collapsed": true
   },
   "outputs": [],
   "source": [
    "lower_q = total_by_borough.id.quantile(0.25)\n",
    "median = total_by_borough.id.quantile(0.5)\n",
    "upper_q = total_by_borough.id.quantile(0.75)"
   ]
  },
  {
   "cell_type": "code",
   "execution_count": 10,
   "metadata": {},
   "outputs": [
    {
     "data": {
      "text/plain": [
       "0.25    2166.0\n",
       "0.50    2936.0\n",
       "0.75    3765.0\n",
       "1.00    4817.0\n",
       "Name: id, dtype: float64"
      ]
     },
     "execution_count": 10,
     "metadata": {},
     "output_type": "execute_result"
    }
   ],
   "source": [
    "total_by_borough.id.quantile([0.25,0.5,0.75, 1.0])"
   ]
  },
  {
   "cell_type": "code",
   "execution_count": 12,
   "metadata": {},
   "outputs": [
    {
     "data": {
      "text/plain": [
       "LOCATION    Barking and Dagenham\n",
       "id                          1062\n",
       "dtype: object"
      ]
     },
     "execution_count": 12,
     "metadata": {},
     "output_type": "execute_result"
    }
   ],
   "source": [
    "total_by_borough.min()"
   ]
  },
  {
   "cell_type": "code",
   "execution_count": 13,
   "metadata": {
    "collapsed": true
   },
   "outputs": [],
   "source": [
    "total_by_borough.to_csv(\"./data/total_tweets_by_borough.csv\", index=False)"
   ]
  },
  {
   "cell_type": "code",
   "execution_count": 14,
   "metadata": {
    "collapsed": true
   },
   "outputs": [],
   "source": [
    "iqr = total_by_borough.id.quantile(0.75) - total_by_borough.id.quantile(0.25)"
   ]
  },
  {
   "cell_type": "code",
   "execution_count": 15,
   "metadata": {},
   "outputs": [
    {
     "data": {
      "text/plain": [
       "1599.0"
      ]
     },
     "execution_count": 15,
     "metadata": {},
     "output_type": "execute_result"
    }
   ],
   "source": [
    "iqr"
   ]
  },
  {
   "cell_type": "code",
   "execution_count": 16,
   "metadata": {},
   "outputs": [
    {
     "data": {
      "text/plain": [
       "-232.5"
      ]
     },
     "execution_count": 16,
     "metadata": {},
     "output_type": "execute_result"
    }
   ],
   "source": [
    "total_by_borough.id.quantile(0.25) - 1.5*iqr"
   ]
  },
  {
   "cell_type": "code",
   "execution_count": 20,
   "metadata": {},
   "outputs": [
    {
     "data": {
      "text/plain": [
       "6163.5"
      ]
     },
     "execution_count": 20,
     "metadata": {},
     "output_type": "execute_result"
    }
   ],
   "source": [
    "total_by_borough.id.quantile(0.75) + 1.5*iqr"
   ]
  },
  {
   "cell_type": "code",
   "execution_count": 18,
   "metadata": {
    "collapsed": true
   },
   "outputs": [],
   "source": [
    "total_by_borough[\"quartile\"] = np.nan"
   ]
  },
  {
   "cell_type": "code",
   "execution_count": 19,
   "metadata": {},
   "outputs": [
    {
     "data": {
      "text/html": [
       "<div>\n",
       "<style scoped>\n",
       "    .dataframe tbody tr th:only-of-type {\n",
       "        vertical-align: middle;\n",
       "    }\n",
       "\n",
       "    .dataframe tbody tr th {\n",
       "        vertical-align: top;\n",
       "    }\n",
       "\n",
       "    .dataframe thead th {\n",
       "        text-align: right;\n",
       "    }\n",
       "</style>\n",
       "<table border=\"1\" class=\"dataframe\">\n",
       "  <thead>\n",
       "    <tr style=\"text-align: right;\">\n",
       "      <th></th>\n",
       "      <th>LOCATION</th>\n",
       "      <th>id</th>\n",
       "      <th>quartile</th>\n",
       "    </tr>\n",
       "  </thead>\n",
       "  <tbody>\n",
       "    <tr>\n",
       "      <th>0</th>\n",
       "      <td>Barking and Dagenham</td>\n",
       "      <td>2035</td>\n",
       "      <td>NaN</td>\n",
       "    </tr>\n",
       "    <tr>\n",
       "      <th>1</th>\n",
       "      <td>Barnet</td>\n",
       "      <td>4290</td>\n",
       "      <td>NaN</td>\n",
       "    </tr>\n",
       "    <tr>\n",
       "      <th>2</th>\n",
       "      <td>Bexley</td>\n",
       "      <td>2794</td>\n",
       "      <td>NaN</td>\n",
       "    </tr>\n",
       "    <tr>\n",
       "      <th>3</th>\n",
       "      <td>Brent</td>\n",
       "      <td>2585</td>\n",
       "      <td>NaN</td>\n",
       "    </tr>\n",
       "    <tr>\n",
       "      <th>4</th>\n",
       "      <td>Bromley</td>\n",
       "      <td>3626</td>\n",
       "      <td>NaN</td>\n",
       "    </tr>\n",
       "  </tbody>\n",
       "</table>\n",
       "</div>"
      ],
      "text/plain": [
       "               LOCATION    id  quartile\n",
       "0  Barking and Dagenham  2035       NaN\n",
       "1                Barnet  4290       NaN\n",
       "2                Bexley  2794       NaN\n",
       "3                 Brent  2585       NaN\n",
       "4               Bromley  3626       NaN"
      ]
     },
     "execution_count": 19,
     "metadata": {},
     "output_type": "execute_result"
    }
   ],
   "source": [
    "total_by_borough.head()"
   ]
  },
  {
   "cell_type": "code",
   "execution_count": 22,
   "metadata": {},
   "outputs": [],
   "source": [
    "first_quartile = total_by_borough.id.quantile(0.25)\n",
    "second_quartile = total_by_borough.id.quantile(0.5)\n",
    "third_quartile = total_by_borough.id.quantile(0.75)\n",
    "fourth_quartile = total_by_borough.id.quantile(1.00)"
   ]
  },
  {
   "cell_type": "code",
   "execution_count": 23,
   "metadata": {
    "collapsed": true
   },
   "outputs": [],
   "source": [
    "def tweets_by_quartile(tweets):\n",
    "    \n",
    "    if tweets <= first_quartile:\n",
    "        return \"First Quartile\"\n",
    "    elif tweets <= second_quartile:\n",
    "        return \"Second Quartile\"\n",
    "    elif tweets <= third_quartile:\n",
    "        return \"Third Quartile\"\n",
    "    elif tweets <= fourth_quartile:\n",
    "        return \"Fourth Quartile\""
   ]
  },
  {
   "cell_type": "code",
   "execution_count": 26,
   "metadata": {},
   "outputs": [],
   "source": [
    "total_by_borough.quartile = total_by_borough.id.apply(tweets_by_quartile)"
   ]
  },
  {
   "cell_type": "code",
   "execution_count": 27,
   "metadata": {},
   "outputs": [
    {
     "data": {
      "text/html": [
       "<div>\n",
       "<style scoped>\n",
       "    .dataframe tbody tr th:only-of-type {\n",
       "        vertical-align: middle;\n",
       "    }\n",
       "\n",
       "    .dataframe tbody tr th {\n",
       "        vertical-align: top;\n",
       "    }\n",
       "\n",
       "    .dataframe thead th {\n",
       "        text-align: right;\n",
       "    }\n",
       "</style>\n",
       "<table border=\"1\" class=\"dataframe\">\n",
       "  <thead>\n",
       "    <tr style=\"text-align: right;\">\n",
       "      <th></th>\n",
       "      <th>LOCATION</th>\n",
       "      <th>id</th>\n",
       "      <th>quartile</th>\n",
       "    </tr>\n",
       "  </thead>\n",
       "  <tbody>\n",
       "    <tr>\n",
       "      <th>0</th>\n",
       "      <td>Barking and Dagenham</td>\n",
       "      <td>2035</td>\n",
       "      <td>First Quartile</td>\n",
       "    </tr>\n",
       "    <tr>\n",
       "      <th>1</th>\n",
       "      <td>Barnet</td>\n",
       "      <td>4290</td>\n",
       "      <td>Fourth Quartile</td>\n",
       "    </tr>\n",
       "    <tr>\n",
       "      <th>2</th>\n",
       "      <td>Bexley</td>\n",
       "      <td>2794</td>\n",
       "      <td>Second Quartile</td>\n",
       "    </tr>\n",
       "    <tr>\n",
       "      <th>3</th>\n",
       "      <td>Brent</td>\n",
       "      <td>2585</td>\n",
       "      <td>Second Quartile</td>\n",
       "    </tr>\n",
       "    <tr>\n",
       "      <th>4</th>\n",
       "      <td>Bromley</td>\n",
       "      <td>3626</td>\n",
       "      <td>Third Quartile</td>\n",
       "    </tr>\n",
       "  </tbody>\n",
       "</table>\n",
       "</div>"
      ],
      "text/plain": [
       "               LOCATION    id         quartile\n",
       "0  Barking and Dagenham  2035   First Quartile\n",
       "1                Barnet  4290  Fourth Quartile\n",
       "2                Bexley  2794  Second Quartile\n",
       "3                 Brent  2585  Second Quartile\n",
       "4               Bromley  3626   Third Quartile"
      ]
     },
     "execution_count": 27,
     "metadata": {},
     "output_type": "execute_result"
    }
   ],
   "source": [
    "total_by_borough.head()"
   ]
  },
  {
   "cell_type": "code",
   "execution_count": 28,
   "metadata": {
    "collapsed": true
   },
   "outputs": [],
   "source": [
    "total_by_borough.to_csv(\"./data/tweets_by_quartile.csv\", index=False)"
   ]
  },
  {
   "cell_type": "code",
   "execution_count": null,
   "metadata": {
    "collapsed": true
   },
   "outputs": [],
   "source": []
  }
 ],
 "metadata": {
  "kernelspec": {
   "display_name": "Python 3",
   "language": "python",
   "name": "python3"
  },
  "language_info": {
   "codemirror_mode": {
    "name": "ipython",
    "version": 3
   },
   "file_extension": ".py",
   "mimetype": "text/x-python",
   "name": "python",
   "nbconvert_exporter": "python",
   "pygments_lexer": "ipython3",
   "version": "3.6.4"
  }
 },
 "nbformat": 4,
 "nbformat_minor": 2
}
